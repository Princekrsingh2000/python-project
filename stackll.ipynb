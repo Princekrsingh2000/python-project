{
  "nbformat": 4,
  "nbformat_minor": 0,
  "metadata": {
    "colab": {
      "name": "stackll.ipynb",
      "provenance": [],
      "authorship_tag": "ABX9TyOUPpq85JFoZujOEP5O70Ev",
      "include_colab_link": true
    },
    "kernelspec": {
      "name": "python3",
      "display_name": "Python 3"
    }
  },
  "cells": [
    {
      "cell_type": "markdown",
      "metadata": {
        "id": "view-in-github",
        "colab_type": "text"
      },
      "source": [
        "<a href=\"https://colab.research.google.com/github/Princekrsingh2000/python-project/blob/main/stackll.ipynb\" target=\"_parent\"><img src=\"https://colab.research.google.com/assets/colab-badge.svg\" alt=\"Open In Colab\"/></a>"
      ]
    },
    {
      "cell_type": "code",
      "metadata": {
        "id": "eWtRlTtSMftm"
      },
      "source": [
        "class Node:\r\n",
        "  def __init__(self,data):\r\n",
        "    self.data=data\r\n",
        "    self.next=None\r\n",
        "\r\n",
        "\r\n",
        "class Stack:\r\n",
        "  def __init__(self):\r\n",
        "    self.top=None\r\n",
        "  \r\n",
        "  def push(self,value):\r\n",
        "    new_node=Node(value)\r\n",
        "    new_node.next=self.top\r\n",
        "    self.top=new_node\r\n",
        "\r\n",
        "  def pop(self):\r\n",
        "    if self.top==None:\r\n",
        "      return \"empty\"\r\n",
        "    else:\r\n",
        "      data=self.top.data\r\n",
        "      self.top=self.top.next\r\n",
        "      return data\r\n",
        "  def peek(self):\r\n",
        "    if self.top==None:\r\n",
        "      return \"empty\"\r\n",
        "    else:\r\n",
        "      return self.top.data\r\n",
        "  \r\n",
        "  def size(self):\r\n",
        "    temp=self.top\r\n",
        "    c=0\r\n",
        "    while temp!=None:\r\n",
        "      c+=1\r\n",
        "      temp=temp.next\r\n",
        "    return c\r\n",
        "  \r\n",
        "  def traverse(self):\r\n",
        "\r\n",
        "\r\n",
        "    temp = self.top\r\n",
        "\r\n",
        "    while temp is not None:\r\n",
        "      print(temp.data,end=' ')\r\n",
        "      temp = temp.next"
      ],
      "execution_count": null,
      "outputs": []
    },
    {
      "cell_type": "code",
      "metadata": {
        "id": "R84dztfvRieh"
      },
      "source": [
        "s=Stack()\r\n",
        "s.push(3)\r\n",
        "s.push(9)\r\n"
      ],
      "execution_count": null,
      "outputs": []
    },
    {
      "cell_type": "code",
      "metadata": {
        "colab": {
          "base_uri": "https://localhost:8080/"
        },
        "id": "ChvKCHf3Tcf6",
        "outputId": "1f483cd5-6cda-4b28-e7d0-9969a634f642"
      },
      "source": [
        "s.size()"
      ],
      "execution_count": null,
      "outputs": [
        {
          "output_type": "execute_result",
          "data": {
            "text/plain": [
              "2"
            ]
          },
          "metadata": {
            "tags": []
          },
          "execution_count": 28
        }
      ]
    },
    {
      "cell_type": "code",
      "metadata": {
        "colab": {
          "base_uri": "https://localhost:8080/"
        },
        "id": "ibjWqs91TEeS",
        "outputId": "a510b0ec-af84-4543-f7a3-8ff4f8d08193"
      },
      "source": [
        "s.peek()"
      ],
      "execution_count": null,
      "outputs": [
        {
          "output_type": "execute_result",
          "data": {
            "text/plain": [
              "9"
            ]
          },
          "metadata": {
            "tags": []
          },
          "execution_count": 20
        }
      ]
    },
    {
      "cell_type": "code",
      "metadata": {
        "colab": {
          "base_uri": "https://localhost:8080/"
        },
        "id": "PutLOuYQRx1g",
        "outputId": "3c069bcd-ee1a-4411-aa40-3612b4f692e8"
      },
      "source": [
        "s.traverse()"
      ],
      "execution_count": null,
      "outputs": [
        {
          "output_type": "stream",
          "text": [
            "9 3 "
          ],
          "name": "stdout"
        }
      ]
    },
    {
      "cell_type": "code",
      "metadata": {
        "colab": {
          "base_uri": "https://localhost:8080/"
        },
        "id": "h-8jDrpKSTmx",
        "outputId": "ea51699a-2405-4855-b59f-224172c7c17a"
      },
      "source": [
        "s.pop()"
      ],
      "execution_count": null,
      "outputs": [
        {
          "output_type": "execute_result",
          "data": {
            "text/plain": [
              "9"
            ]
          },
          "metadata": {
            "tags": []
          },
          "execution_count": 17
        }
      ]
    }
  ]
}