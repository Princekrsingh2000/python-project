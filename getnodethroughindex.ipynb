{
  "nbformat": 4,
  "nbformat_minor": 0,
  "metadata": {
    "colab": {
      "name": "getnodethroughindex.ipynb",
      "provenance": [],
      "authorship_tag": "ABX9TyM/8wGIzbtOur7NQSQjp4Pg",
      "include_colab_link": true
    },
    "kernelspec": {
      "name": "python3",
      "display_name": "Python 3"
    }
  },
  "cells": [
    {
      "cell_type": "markdown",
      "metadata": {
        "id": "view-in-github",
        "colab_type": "text"
      },
      "source": [
        "<a href=\"https://colab.research.google.com/github/Princekrsingh2000/python-project/blob/main/getnodethroughindex.ipynb\" target=\"_parent\"><img src=\"https://colab.research.google.com/assets/colab-badge.svg\" alt=\"Open In Colab\"/></a>"
      ]
    },
    {
      "cell_type": "code",
      "metadata": {
        "id": "6V-MYHmm-_JG"
      },
      "source": [
        "class Node:\r\n",
        "  def __init__(self,data):\r\n",
        "    self.data=data\r\n",
        "    self.next=None\r\n",
        "class LinkedList:\r\n",
        "  def __init__(self):\r\n",
        "    self.head=None\r\n",
        "  \r\n",
        "  def append(self,value):\r\n",
        "    new_node=Node(value)\r\n",
        "    new_node.next=self.head\r\n",
        "    self.head=new_node\r\n",
        "  \r\n",
        "  def delete_head(self):\r\n",
        "    if self.head==None:\r\n",
        "      return \"empty\"\r\n",
        "    else:\r\n",
        "      self.head=self.head.next\r\n",
        "  \r\n",
        "  def delete_tail(self):\r\n",
        "    if self.head==None:\r\n",
        "      return \"empty\"\r\n",
        "    else:\r\n",
        "      temp=self.head\r\n",
        "      if temp.next==None:\r\n",
        "        self.head=None\r\n",
        "        return\r\n",
        "      while temp.next.next!=None:\r\n",
        "        temp=temp.next\r\n",
        "      temp.next=None\r\n",
        "  def get_nth(self,index):\r\n",
        "    temp=self.head\r\n",
        "    count=0\r\n",
        "    while temp!=None:\r\n",
        "      if count==index:\r\n",
        "        return temp.data\r\n",
        "      count+=1\r\n",
        "      temp=temp.next\r\n",
        "    return \"not found\"\r\n",
        "  \r\n",
        "  def display(self):\r\n",
        "\r\n",
        "    temp=self.head\r\n",
        "    while temp!=None:\r\n",
        "      print(temp.data,end=\" \")\r\n",
        "      temp=temp.next\r\n",
        "  \r\n",
        "  # def delete_by_value(self,value):\r\n",
        "  #   if self .head==None:\r\n",
        "  #     return \"empty\"\r\n",
        "  #   else:\r\n",
        "  #     temp=self.head\r\n",
        "  #     while temp.next!=None:\r\n",
        "  #       if temp.next==None:\r\n",
        "  #         return \"not found\"\r\n",
        "  #         break\r\n",
        "  #       temp=temp.next\r\n",
        "\r\n",
        "  #     if temp.next.data==value:\r\n",
        "  #       temp.next=temp.next.next\r\n",
        "  #     else:\r\n",
        "  #       return \"not foun\"\r\n",
        "\r\n"
      ],
      "execution_count": 74,
      "outputs": []
    },
    {
      "cell_type": "code",
      "metadata": {
        "id": "51cBye5_GIh2"
      },
      "source": [
        ""
      ],
      "execution_count": null,
      "outputs": []
    },
    {
      "cell_type": "code",
      "metadata": {
        "id": "JRBjNY8VBc5J"
      },
      "source": [
        "ll=LinkedList()"
      ],
      "execution_count": 75,
      "outputs": []
    },
    {
      "cell_type": "code",
      "metadata": {
        "id": "35miszD5BgZo"
      },
      "source": [
        "ll.append(9)\r\n",
        "ll.append(3)\r\n",
        "ll.append(9)"
      ],
      "execution_count": 87,
      "outputs": []
    },
    {
      "cell_type": "code",
      "metadata": {
        "colab": {
          "base_uri": "https://localhost:8080/",
          "height": 35
        },
        "id": "JekxZmWmC62y",
        "outputId": "68f47019-a30f-4b36-bb36-a1fd0176e357"
      },
      "source": [
        "ll.delete_head()"
      ],
      "execution_count": 64,
      "outputs": [
        {
          "output_type": "execute_result",
          "data": {
            "application/vnd.google.colaboratory.intrinsic+json": {
              "type": "string"
            },
            "text/plain": [
              "'empty'"
            ]
          },
          "metadata": {
            "tags": []
          },
          "execution_count": 64
        }
      ]
    },
    {
      "cell_type": "code",
      "metadata": {
        "colab": {
          "base_uri": "https://localhost:8080/",
          "height": 35
        },
        "id": "0jVyyUTdDMQ4",
        "outputId": "c22b4da7-9e25-4680-b8a5-b843e055a47c"
      },
      "source": [
        "ll.delete_tail()"
      ],
      "execution_count": 84,
      "outputs": [
        {
          "output_type": "execute_result",
          "data": {
            "application/vnd.google.colaboratory.intrinsic+json": {
              "type": "string"
            },
            "text/plain": [
              "'empty'"
            ]
          },
          "metadata": {
            "tags": []
          },
          "execution_count": 84
        }
      ]
    },
    {
      "cell_type": "code",
      "metadata": {
        "colab": {
          "base_uri": "https://localhost:8080/"
        },
        "id": "GfqzOmqQDAav",
        "outputId": "66fe7a9e-68c8-4c72-c49e-03ac2662437e"
      },
      "source": [
        "ll.display()"
      ],
      "execution_count": 88,
      "outputs": [
        {
          "output_type": "stream",
          "text": [
            "9 3 9 "
          ],
          "name": "stdout"
        }
      ]
    },
    {
      "cell_type": "code",
      "metadata": {
        "colab": {
          "base_uri": "https://localhost:8080/"
        },
        "id": "LDcPBI5LBjwg",
        "outputId": "5bcd617a-80d8-4b37-d2f8-ddbcdc0e9fd7"
      },
      "source": [
        "ll.get_nth(2)"
      ],
      "execution_count": 89,
      "outputs": [
        {
          "output_type": "execute_result",
          "data": {
            "text/plain": [
              "9"
            ]
          },
          "metadata": {
            "tags": []
          },
          "execution_count": 89
        }
      ]
    }
  ]
}