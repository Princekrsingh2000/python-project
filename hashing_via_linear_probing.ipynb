{
  "nbformat": 4,
  "nbformat_minor": 0,
  "metadata": {
    "colab": {
      "name": "hashing-via-linear_probing.ipynb",
      "provenance": [],
      "collapsed_sections": [],
      "authorship_tag": "ABX9TyMuwSJfxTxWmBTgDGOBg6mD",
      "include_colab_link": true
    },
    "kernelspec": {
      "name": "python3",
      "display_name": "Python 3"
    }
  },
  "cells": [
    {
      "cell_type": "markdown",
      "metadata": {
        "id": "view-in-github",
        "colab_type": "text"
      },
      "source": [
        "<a href=\"https://colab.research.google.com/github/Princekrsingh2000/python-project/blob/main/hashing_via_linear_probing.ipynb\" target=\"_parent\"><img src=\"https://colab.research.google.com/assets/colab-badge.svg\" alt=\"Open In Colab\"/></a>"
      ]
    },
    {
      "cell_type": "code",
      "metadata": {
        "id": "tjblbqNuw5RS"
      },
      "source": [
        "class Dictionary:\r\n",
        "  def __init__(self,size):\r\n",
        "    self.size=size\r\n",
        "    self.slots=[None] * self.size  ## for keys\r\n",
        "    self.data=[None] * self.size   ## for values\r\n",
        "  \r\n",
        "\r\n",
        "  def put(self,key,value): # dict me new key value pair ko dal rrhe h \r\n",
        "    hash_value=self.hash_function(key)\r\n",
        "\r\n",
        "    if self.slots[hash_value] == None:\r\n",
        "      self.slots[hash_value]=key\r\n",
        "      self.data[hash_value]=value\r\n",
        "    else:\r\n",
        "      if self.slots[hash_value]==key:\r\n",
        "        self.data[hash_value]=value\r\n",
        "\r\n",
        "      else:\r\n",
        "        new_hash_value=self.re_hash(hash_value)\r\n",
        "\r\n",
        "        while self.slots[new_hash_value]!=None and self.slots[new_hash_value]!=key:\r\n",
        "          new_hash_value=self.re_hash(new_hash_value)\r\n",
        "        \r\n",
        "        if self.slots[new_hash_value] == None:\r\n",
        "          self.slots[new_hash_value]=key\r\n",
        "          self.data[new_hash_value]=value\r\n",
        "        else:\r\n",
        "          self.data[new_hash_value]=value\r\n",
        "  \r\n",
        "  def get(self,key): # accesss value from key\r\n",
        "    start_position=self.hash_function(key)\r\n",
        "    current_position=start_position\r\n",
        "\r\n",
        "    while self.slots[current_position]!=None: # loop jab tk chalega jab tk none na mil jaye agar none mil jayega to loop  break ho jayega \r\n",
        "      if self.slots[current_position] == key: # agar current_postion key se mil gya to hm data array se uska postion return kar denge \r\n",
        "        return self.data[current_position]\r\n",
        "      \r\n",
        "      current_position=self.re_hash(current_position) \r\n",
        "\r\n",
        "      if current_position == start_position: ## jis position se start kiye the agar hm wahi pe aa jaye to iska mtlb ki element jo hm search kar rhe h usme nhi h \r\n",
        "        return \"not found\"\r\n",
        "\r\n",
        "    return \"none wala not found\" # agar none mil jayega to not found return kar denge\r\n",
        "\r\n",
        "  def __getitem__(self,key): # iske through hm key se values ko access kar sakte h  jaise dict me karte me h\r\n",
        "    return self.get(key)\r\n",
        "\r\n",
        "  def __str__(self): # function for print dictionary \r\n",
        "    for i in range(len(self.slots)):\r\n",
        "      if self.slots[i]!=None:\r\n",
        "        print(self.slots[i],\":\",self.data[i],end=\" \")\r\n",
        "    \r\n",
        "    return \"\"\r\n",
        "\r\n",
        "\r\n",
        "\r\n",
        "  def re_hash(self,old_hash): # position ko badane ke liye \r\n",
        "    return (old_hash + 1) % self.size  ## last tk pahuch kar phir se suru se start hoga(from zero)\r\n",
        "\r\n",
        "  \r\n",
        "  def __setitem__(self,key,value): # magic method (isase hm jaise dict me key ke through value ko initalize karte h na waise hi isme kar sakte h)\r\n",
        "    self.put(key,value)\r\n",
        "\r\n",
        "  def hash_function(self,key): # iske through ham key aur value ko uske respectively array me initalize karte h\r\n",
        "                                # index malum ho jata h ki kaun sa index pe kayn rahega\r\n",
        "\r\n",
        "    return abs(hash(key)) % self.size # abs(negative value ko positive banne ke liye karte h )\r\n",
        "                                      # hash():- internally hashing karta h (jaise string value huya )\r\n",
        "\r\n"
      ],
      "execution_count": 73,
      "outputs": []
    },
    {
      "cell_type": "code",
      "metadata": {
        "id": "f3gxccY6Em9o"
      },
      "source": [
        "D1=Dictionary(3)\r\n"
      ],
      "execution_count": 74,
      "outputs": []
    },
    {
      "cell_type": "code",
      "metadata": {
        "colab": {
          "base_uri": "https://localhost:8080/"
        },
        "id": "siDfuvitE0X5",
        "outputId": "656833be-7439-4d08-f660-33eef9564818"
      },
      "source": [
        "print(D1.slots)\r\n",
        "print(D1.data)"
      ],
      "execution_count": 75,
      "outputs": [
        {
          "output_type": "stream",
          "text": [
            "[None, None, None]\n",
            "[None, None, None]\n"
          ],
          "name": "stdout"
        }
      ]
    },
    {
      "cell_type": "code",
      "metadata": {
        "colab": {
          "base_uri": "https://localhost:8080/",
          "height": 35
        },
        "id": "Wp6inZOAOPWk",
        "outputId": "212719e9-68a8-4a35-867d-19322b51fce8"
      },
      "source": [
        "D1.get('php')\r\n",
        "D1.get('an')\r\n"
      ],
      "execution_count": 57,
      "outputs": [
        {
          "output_type": "execute_result",
          "data": {
            "application/vnd.google.colaboratory.intrinsic+json": {
              "type": "string"
            },
            "text/plain": [
              "'not found'"
            ]
          },
          "metadata": {
            "tags": []
          },
          "execution_count": 57
        }
      ]
    },
    {
      "cell_type": "code",
      "metadata": {
        "id": "BupqSPe4E4op"
      },
      "source": [
        "D1['python']=50\r\n",
        "D1['php']=50\r\n",
        "D1['c']=66\r\n"
      ],
      "execution_count": 70,
      "outputs": []
    },
    {
      "cell_type": "code",
      "metadata": {
        "colab": {
          "base_uri": "https://localhost:8080/"
        },
        "id": "hVBHUf5XReNV",
        "outputId": "e88c14fc-5453-4f3a-8fe3-5117c217acf4"
      },
      "source": [
        "print(D1)"
      ],
      "execution_count": 71,
      "outputs": [
        {
          "output_type": "stream",
          "text": [
            "python : 50 c : 66 php : 50 \n"
          ],
          "name": "stdout"
        }
      ]
    },
    {
      "cell_type": "code",
      "metadata": {
        "colab": {
          "base_uri": "https://localhost:8080/"
        },
        "id": "EHvM61VbPr5M",
        "outputId": "41e23320-a0d6-4f49-cb49-bf180e3fe8b6"
      },
      "source": [
        "D1['c']\r\n",
        "D1['python']"
      ],
      "execution_count": 64,
      "outputs": [
        {
          "output_type": "execute_result",
          "data": {
            "text/plain": [
              "50"
            ]
          },
          "metadata": {
            "tags": []
          },
          "execution_count": 64
        }
      ]
    }
  ]
}