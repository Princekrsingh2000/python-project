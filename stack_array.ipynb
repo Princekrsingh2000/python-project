{
  "nbformat": 4,
  "nbformat_minor": 0,
  "metadata": {
    "colab": {
      "name": "stack_array.ipynb",
      "provenance": [],
      "collapsed_sections": [],
      "authorship_tag": "ABX9TyPUxvLUxWMiYzNUe2BYwqEz",
      "include_colab_link": true
    },
    "kernelspec": {
      "name": "python3",
      "display_name": "Python 3"
    }
  },
  "cells": [
    {
      "cell_type": "markdown",
      "metadata": {
        "id": "view-in-github",
        "colab_type": "text"
      },
      "source": [
        "<a href=\"https://colab.research.google.com/github/Princekrsingh2000/python-project/blob/main/stack_array.ipynb\" target=\"_parent\"><img src=\"https://colab.research.google.com/assets/colab-badge.svg\" alt=\"Open In Colab\"/></a>"
      ]
    },
    {
      "cell_type": "code",
      "metadata": {
        "id": "c8bBvw8Hxwb6"
      },
      "source": [
        "class Stack:\r\n",
        "  \r\n",
        "  def __init__(self,size):\r\n",
        "    self.size=size\r\n",
        "    self.stack=[None] * self.size  \r\n",
        "    self.top_pointer=-1\r\n",
        "  \r\n",
        "  def push(self,value):\r\n",
        "    if self.top_pointer == self.size-1:\r\n",
        "      return \"overflow\"\r\n",
        "    else:\r\n",
        "      self.top_pointer+=1\r\n",
        "      self.stack[self.top_pointer]=value\r\n",
        "\r\n",
        "  def pop(self):\r\n",
        "    if self.top_pointer==-1:\r\n",
        "      return \"empty\"\r\n",
        "    else:\r\n",
        "      self.top_pointer-=1\r\n",
        "      return self.stack[self.top_pointer]\r\n",
        "      \r\n",
        "  \r\n",
        "    \r\n",
        "\r\n",
        "\r\n",
        "\r\n",
        "\r\n",
        "  def peek(self):\r\n",
        "    if self.top_pointer==-1:\r\n",
        "      return \"empty\"\r\n",
        "    else:\r\n",
        "      return self.stack[self.top_pointer]\r\n",
        "\r\n",
        "  def get_size(self):\r\n",
        "    temp=self.top_pointer\r\n",
        "    print(temp)\r\n",
        "    c=0\r\n",
        "    while temp!=-1:\r\n",
        "      c+=1\r\n",
        "      temp-=1\r\n",
        "    return c\r\n",
        "\r\n",
        "  \r\n",
        "\r\n",
        "  def display(self):\r\n",
        "\r\n",
        "    temp=self.top_pointer\r\n",
        "    while temp!=-1:\r\n",
        "      print(self.stack[temp],end=\" \")\r\n",
        "      temp -=1\r\n",
        "  \r\n",
        "\r\n",
        "\r\n",
        "\r\n",
        "\r\n",
        "      \r\n",
        "\r\n",
        "\r\n",
        "\r\n",
        "\r\n",
        "\r\n"
      ],
      "execution_count": 1,
      "outputs": []
    },
    {
      "cell_type": "code",
      "metadata": {
        "colab": {
          "base_uri": "https://localhost:8080/"
        },
        "id": "37Bly_rtx9E5",
        "outputId": "ad6188ef-1827-4ae8-e197-3117e266db56"
      },
      "source": [
        "s=Stack(4)\r\n",
        "\r\n",
        "s.push(8)\r\n",
        "s.push(8)\r\n",
        "s.push(9)\r\n",
        "s.display()\r\n",
        "s.peek()\r\n",
        "s.push(3)\r\n",
        "s.peek()\r\n",
        "s.get_size()\r\n",
        "s.push(12)\r\n",
        "s.pop()\r\n",
        "s.pop()\r\n"
      ],
      "execution_count": 2,
      "outputs": [
        {
          "output_type": "stream",
          "text": [
            "9 8 8 3\n"
          ],
          "name": "stdout"
        },
        {
          "output_type": "execute_result",
          "data": {
            "text/plain": [
              "8"
            ]
          },
          "metadata": {
            "tags": []
          },
          "execution_count": 2
        }
      ]
    }
  ]
}