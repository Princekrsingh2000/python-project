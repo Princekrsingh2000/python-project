{
  "nbformat": 4,
  "nbformat_minor": 0,
  "metadata": {
    "colab": {
      "name": "Queue_array.ipynb",
      "provenance": [],
      "collapsed_sections": [],
      "authorship_tag": "ABX9TyMW+56zMqVql5YaxyHDAUoC",
      "include_colab_link": true
    },
    "kernelspec": {
      "name": "python3",
      "display_name": "Python 3"
    }
  },
  "cells": [
    {
      "cell_type": "markdown",
      "metadata": {
        "id": "view-in-github",
        "colab_type": "text"
      },
      "source": [
        "<a href=\"https://colab.research.google.com/github/Princekrsingh2000/python-project/blob/main/Queue_array.ipynb\" target=\"_parent\"><img src=\"https://colab.research.google.com/assets/colab-badge.svg\" alt=\"Open In Colab\"/></a>"
      ]
    },
    {
      "cell_type": "code",
      "metadata": {
        "id": "NQWVNzQAYkON"
      },
      "source": [
        "class Queue:\r\n",
        "  def __init__(self,size):\r\n",
        "    self.size=size\r\n",
        "    self.queue=[None] * self.size\r\n",
        "    self.front=-1\r\n",
        "    self.rear=-1\r\n",
        "\r\n",
        "  def enqueue(self,value):\r\n",
        "    if self.rear == self.size-1:\r\n",
        "      return \"Queue full\"\r\n",
        "    else:\r\n",
        "      self.rear+=1\r\n",
        "      self.queue[self.rear]=value\r\n",
        "  \r\n",
        "  def dequeue(self):\r\n",
        "    if self.front==self.rear:\r\n",
        "      return \"empty\"\r\n",
        "    else:\r\n",
        "      self.front+=1\r\n",
        "      return self.queue[self.front]\r\n",
        "  def front_item(self):\r\n",
        "    \r\n",
        "  \r\n",
        "  def travers(self):\r\n",
        "    for i in range(self.front+1,self.rear+1):\r\n",
        "      print(self.queue[i],end=\" \")\r\n",
        "\r\n"
      ],
      "execution_count": null,
      "outputs": []
    },
    {
      "cell_type": "code",
      "metadata": {
        "colab": {
          "base_uri": "https://localhost:8080/",
          "height": 35
        },
        "id": "Qqi2yQlmbSXB",
        "outputId": "b59735a8-43d5-40de-db6b-133d244f6a6c"
      },
      "source": [
        "q=Queue(5)\r\n",
        "q.enqueue(3)\r\n",
        "q.enqueue(2)\r\n",
        "q.enqueue(4)\r\n",
        "q.enqueue(3)\r\n",
        "q.enqueue(30)\r\n",
        "q.enqueue(31)"
      ],
      "execution_count": null,
      "outputs": [
        {
          "output_type": "execute_result",
          "data": {
            "application/vnd.google.colaboratory.intrinsic+json": {
              "type": "string"
            },
            "text/plain": [
              "'Queue full'"
            ]
          },
          "metadata": {
            "tags": []
          },
          "execution_count": 18
        }
      ]
    },
    {
      "cell_type": "code",
      "metadata": {
        "colab": {
          "base_uri": "https://localhost:8080/"
        },
        "id": "0-MuslkpeNLd",
        "outputId": "dbec68db-d30d-4331-d310-6feb58614e9c"
      },
      "source": [
        "q.queue"
      ],
      "execution_count": null,
      "outputs": [
        {
          "output_type": "execute_result",
          "data": {
            "text/plain": [
              "[3, 2, 4, 3, 30]"
            ]
          },
          "metadata": {
            "tags": []
          },
          "execution_count": 13
        }
      ]
    },
    {
      "cell_type": "code",
      "metadata": {
        "colab": {
          "base_uri": "https://localhost:8080/"
        },
        "id": "-UzvB6HnbciE",
        "outputId": "7dd32790-61ad-4280-aa4b-6e120c5ca488"
      },
      "source": [
        "q.travers()"
      ],
      "execution_count": null,
      "outputs": [
        {
          "output_type": "stream",
          "text": [
            "3 2 4 3 30 "
          ],
          "name": "stdout"
        }
      ]
    }
  ]
}