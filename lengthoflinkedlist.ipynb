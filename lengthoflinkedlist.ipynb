{
  "nbformat": 4,
  "nbformat_minor": 0,
  "metadata": {
    "colab": {
      "name": "lengthoflinkedlist.ipynb",
      "provenance": [],
      "collapsed_sections": [],
      "authorship_tag": "ABX9TyNqR4pMVxkhr+ZTX5pD0D4e",
      "include_colab_link": true
    },
    "kernelspec": {
      "name": "python3",
      "display_name": "Python 3"
    }
  },
  "cells": [
    {
      "cell_type": "markdown",
      "metadata": {
        "id": "view-in-github",
        "colab_type": "text"
      },
      "source": [
        "<a href=\"https://colab.research.google.com/github/Princekrsingh2000/python-project/blob/main/lengthoflinkedlist.ipynb\" target=\"_parent\"><img src=\"https://colab.research.google.com/assets/colab-badge.svg\" alt=\"Open In Colab\"/></a>"
      ]
    },
    {
      "cell_type": "code",
      "metadata": {
        "id": "qXFqaahbvo8i"
      },
      "source": [
        "class Node:\r\n",
        "  def __init__(self,data):\r\n",
        "    self.data=data\r\n",
        "    self.next=None\r\n",
        "\r\n",
        "class LinkedList:\r\n",
        "  def __init__(self):\r\n",
        "    self.head=None\r\n",
        "  \r\n",
        "  def append(self,value):\r\n",
        "    new_node=Node(value)\r\n",
        "    new_node.next=self.head\r\n",
        "    self.head=new_node\r\n",
        "  \r\n",
        "  def get_count(self):\r\n",
        "    temp=self.head\r\n",
        "    count=0\r\n",
        "    while temp!=None:\r\n",
        "      count+=1\r\n",
        "      temp=temp.next\r\n",
        "    return count\r\n",
        "\r\n",
        "   \r\n",
        "  def length_helper(self, current):\r\n",
        "    if current is None:\r\n",
        "      return 0\r\n",
        "    return 1 + self.length_helper(current.next)\r\n",
        "\r\n",
        "  def getCounts(self):\r\n",
        "    return self.length_helper(self.head) \r\n",
        "\r\n",
        "  \r\n",
        "  def display(self):\r\n",
        "    temp=self.head\r\n",
        "    while temp!=None:\r\n",
        "      print(temp.data,end=\" \")\r\n",
        "      temp=temp.next\r\n",
        "\r\n"
      ],
      "execution_count": 95,
      "outputs": []
    },
    {
      "cell_type": "code",
      "metadata": {
        "id": "gv1zB4Jlw1lc"
      },
      "source": [
        "ll=LinkedList()"
      ],
      "execution_count": 96,
      "outputs": []
    },
    {
      "cell_type": "code",
      "metadata": {
        "id": "avYxAVk5w55t"
      },
      "source": [
        "ll.append(2)\r\n",
        "ll.append(3)\r\n",
        "ll.append(4)\r\n",
        "ll.append(5)"
      ],
      "execution_count": 97,
      "outputs": []
    },
    {
      "cell_type": "code",
      "metadata": {
        "colab": {
          "base_uri": "https://localhost:8080/"
        },
        "id": "77VEcEFqw9gO",
        "outputId": "60682c12-003e-413e-ccde-8c5a5abe8e32"
      },
      "source": [
        "ll.display()"
      ],
      "execution_count": 71,
      "outputs": [
        {
          "output_type": "stream",
          "text": [
            "5 4 3 2 "
          ],
          "name": "stdout"
        }
      ]
    },
    {
      "cell_type": "code",
      "metadata": {
        "colab": {
          "base_uri": "https://localhost:8080/"
        },
        "id": "Zxn_aupWxupx",
        "outputId": "c144e8d8-cdfc-4c05-b92c-9b0aaadc929e"
      },
      "source": [
        "ll.get_count()"
      ],
      "execution_count": 88,
      "outputs": [
        {
          "output_type": "execute_result",
          "data": {
            "text/plain": [
              "4"
            ]
          },
          "metadata": {
            "tags": []
          },
          "execution_count": 88
        }
      ]
    },
    {
      "cell_type": "code",
      "metadata": {
        "colab": {
          "base_uri": "https://localhost:8080/"
        },
        "id": "2WWdwggcy5TM",
        "outputId": "0e76dd12-4061-4baf-a7dc-c16db8118d88"
      },
      "source": [
        "ll.getCounts()"
      ],
      "execution_count": 98,
      "outputs": [
        {
          "output_type": "execute_result",
          "data": {
            "text/plain": [
              "4"
            ]
          },
          "metadata": {
            "tags": []
          },
          "execution_count": 98
        }
      ]
    }
  ]
}